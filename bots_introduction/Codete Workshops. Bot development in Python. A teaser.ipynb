{
 "cells": [
  {
   "cell_type": "markdown",
   "metadata": {},
   "source": [
    "![workshops](images/codete_workshops.jpg)"
   ]
  },
  {
   "cell_type": "markdown",
   "metadata": {},
   "source": [
    "# Introduction to bots\n",
    "\n",
    "Bots are just a new interface for users. Currently, we are facing a bot revolution, where many companies has not just a web and mobile interface, but also a conversational interface to connect with the users. \n",
    "\n",
    "![conversational](images/interface.png)\n",
    "\n",
    "There are plenty of bot types. One of the taxonomy is presented in [Designing bots](http://shop.oreilly.com/product/0636920057741.do) and looks like following:\n",
    "* personal bots/team bots,\n",
    "* voice/text bots,\n",
    "* super bots and domain-specific bots,\n",
    "* business and consumer bots,\n",
    "* net new and integration exposing legacy systems bots.\n",
    "\n",
    "Developing bots need to be done carefully as it can end as Tay bot, a teenager Twitter bot developed by Microsoft.\n",
    "\n",
    "![Tay](images/tay.jpeg)\n",
    "\n",
    "Bots can also have an impact on real-life cases like the bots used during the U.S. elections:\n",
    "[Bots and trolls in U.S. elections](https://www.nytimes.com/video/us/politics/100000005414346/how-russian-bots-and-trolls-invade-our-lives-and-elections.html)"
   ]
  },
  {
   "cell_type": "markdown",
   "metadata": {},
   "source": [
    "## Setup Slack account for RTM\n",
    "It's good to create a new slack workspace, but you can use also a slack account where you have the admin priviliges. Follow the instructions to setup your Slack account for RTM API:\n",
    "\n",
    "Go to www.slack.com and register.\n",
    "Create a new workspace.\n",
    "Click Browser in the top.\n",
    "Browser for Bots and choose it.\n",
    "Add configuration\n",
    "Fill out the fields:\n",
    "Customize Name\n",
    "Full Name\n",
    "Copy the API Token and into a variable SLACK_TOKEN.\n",
    "Save Integration."
   ]
  },
  {
   "cell_type": "code",
   "execution_count": null,
   "metadata": {},
   "outputs": [],
   "source": [
    "SLACK_TOKEN = \"\""
   ]
  },
  {
   "cell_type": "code",
   "execution_count": null,
   "metadata": {},
   "outputs": [],
   "source": [
    "sc = SlackClient(SLACK_TOKEN)\n",
    "\n",
    "if sc.rtm_connect():\n",
    "     sc.api_call(\"chat.postMessage\", channel=\"#general\",\n",
    "                          text=\"Hello. I'm Anna, your HR assistant. How can I help?\", as_user=True)\n",
    "else:\n",
    "    print(\"Connection failed\")"
   ]
  },
  {
   "cell_type": "markdown",
   "metadata": {},
   "source": [
    "## Natural Language Processing in a nutshell\n",
    "\n",
    "Based on [O'Reilly](https://www.oreilly.com/ideas/how-to-solve-90-of-nlp-problems--a-step-by-step-guide), we have a process that is known to solve most of the NLP problems.\n",
    "\n",
    "1. Gather your data\n",
    "2. Clean yout data\n",
    "3. Find a good representation\n",
    "4. Classification\n",
    "5. Inspection\n",
    "6. Accounting for vocabulary structure\n",
    "7. Leveraging semantics\n",
    "8. Leveraging syntax using end-to-end approaches"
   ]
  },
  {
   "cell_type": "markdown",
   "metadata": {},
   "source": [
    "### Regular expression\n",
    "\n",
    "The first solution that comes to our mind when it comes to text processing are regular expression. It is usually the best solution in software development. It is also used in many tools that we have mentioned before. Let's take an example to do a short recap how to use regular expressions in Python."
   ]
  },
  {
   "cell_type": "code",
   "execution_count": null,
   "metadata": {},
   "outputs": [],
   "source": [
    "example = \"Codete is a great company with many great developers.\"\n",
    "\n",
    "import re\n",
    "\n",
    "pattern = \"\\\\s+\"\n",
    "words = re.split(pattern, example)\n",
    "print(words)"
   ]
  },
  {
   "cell_type": "markdown",
   "metadata": {},
   "source": [
    "Python does have some methods for Strings that can do the same as above, but with less code."
   ]
  },
  {
   "cell_type": "code",
   "execution_count": null,
   "metadata": {},
   "outputs": [],
   "source": [
    "words = example.split(' ')\n",
    "print(words)"
   ]
  },
  {
   "cell_type": "markdown",
   "metadata": {},
   "source": [
    "NLTK is a more advanced tool than just regular expressions. We can easily tokenize sentences. Tokenization is a process of getting words from sentences."
   ]
  },
  {
   "cell_type": "code",
   "execution_count": null,
   "metadata": {},
   "outputs": [],
   "source": [
    "import nltk\n",
    "#nltk.download('punkt')\n",
    "#nltk.download('averaged_perceptron_tagger')\n",
    "\n",
    "tokens = nltk.word_tokenize(example)\n",
    "print(\"Tokens: \" + str(tokens))"
   ]
  },
  {
   "cell_type": "markdown",
   "metadata": {},
   "source": [
    "What is great with NLTK is that we can tag each word. A tag give us a meaning of a word. We can think about it as a type of word."
   ]
  },
  {
   "cell_type": "code",
   "execution_count": null,
   "metadata": {},
   "outputs": [],
   "source": [
    "tags = nltk.pos_tag(tokens)\n",
    "print(\"Tagged: \" + str(tags))"
   ]
  },
  {
   "cell_type": "markdown",
   "metadata": {},
   "source": [
    "Some tags are shown in the table below.\n",
    "\n",
    "| tag  | short | description   |\n",
    "|------|-------|---------------|\n",
    "| DT   | determiner | all an another any both del each either every half la many much nary neither no some such that the them these this those |\n",
    "| IN   | preposition or conjunction, subordinating | astride among uppon whether out inside pro despite on by throughout below within for towards near behind atop around if like until below next into if beside ... |\n",
    "| JJ   | adjective or numeral, ordinal | third ill-mannered pre-war regrettable oiled calamitous first separable ectoplasmic battery-powered participatory fourth still-to-be-named multilingual multi-disciplinary ... |\n",
    "| NN   | noun, common, singular or mass | common-carrier cabbage knuckle-duster Casino afghan shed thermostat investment slide humour falloff slick wind hyena override subhumanity machinist ... |\n",
    "| NNP  | noun, proper, singular | Motown Venneboerger Czestochowa Ranzer Conchita Trumplane Christos Oceanside Escobar Kreisler Sawyer Cougar Yvette Ervin ODI Darryl CTCA Shannon A.K.C. Meltex Liverpool ... |\n",
    "| NNS  | noun, common, plural | undergraduates scotches bric-a-brac products bodyguards facets coasts divestitures storehouses designs clubs fragrances averages subjectivists apprehensions muses factory-jobs ... |\n",
    "| VBZ  | verb, present tense, 3rd person singular | bases reconstructs marks mixes displeases seals carps weaves snatches slumps stretches authorizes smolders pictures emerges stockpiles seduces fizzes uses bolsters slaps speaks pleads ... |"
   ]
  },
  {
   "cell_type": "markdown",
   "metadata": {},
   "source": [
    "## Speech bots\n",
    "\n",
    "Speech bots are more complex than chatbots and there are just a few platforms that enables this kind of functionality. We use Alexa here to show how we can use it.\n",
    "\n",
    "### AVS setup\n",
    "\n",
    "We need to setup the variables needed to connect to AVS in the first place. Fill out the variables below. To do so, we need to go to ...\n",
    "1. Register at [Alexa Voice Service](https://developer.amazon.com/alexa-voice-service).\n",
    "2. Go to **AVS Console**.\n",
    "3. Create a **Product**.\n",
    "4. Fill out the form: **Product name**, **Product ID**, set Please select your product type to **Alexa-Enabled Application**, set also the **Product category** and **Brief product description**. Answer for the questions: How will end users interact with your product? **Hands-free** and **Far-field**. Do you intend to distribute this product commercially? **No**.\n",
    "5. Create a **security profile**.\n",
    "6. Fill out **Allowed origins** with http://localhost:9000/ and **Allowed return URLs** with http://localhost:9000/authresponse.\n",
    "7. Copy the Product ID (Amazon ID), Client ID and Client Secret to variables below.\n"
   ]
  },
  {
   "cell_type": "code",
   "execution_count": null,
   "metadata": {},
   "outputs": [],
   "source": [
    "PRODUCT_ID = \"\"\n",
    "CLIENT_ID = \"\"\n",
    "CLIENT_SECRET = \"\"\n",
    "WEB_PORT = 9000"
   ]
  },
  {
   "cell_type": "markdown",
   "metadata": {},
   "source": [
    "Now, we need to authorize and get the refresh token."
   ]
  },
  {
   "cell_type": "code",
   "execution_count": null,
   "metadata": {},
   "outputs": [],
   "source": [
    "# source: https://github.com/ewenchou/alexa-client\n",
    "import cherrypy\n",
    "import json\n",
    "import requests\n",
    "import urllib\n",
    "import uuid\n",
    "\n",
    "class Start(object):\n",
    "    def index(self):\n",
    "        sd = json.dumps({\n",
    "            \"alexa:all\": {\n",
    "                \"productID\": PRODUCT_ID,\n",
    "                \"productInstanceAttributes\": {\n",
    "                    \"deviceSerialNumber\": uuid.getnode()\n",
    "                }\n",
    "            }\n",
    "        })\n",
    "        url = \"https://www.amazon.com/ap/oa\"\n",
    "        callback = \"http://localhost:9000/authresponse\"#cherrypy.url() + \"callback\"\n",
    "        payload = {\n",
    "            \"client_id\": CLIENT_ID,\n",
    "            \"scope\": \"alexa:all\",\n",
    "            \"scope_data\": sd,\n",
    "            \"response_type\": \"code\",\n",
    "            \"redirect_uri\": callback\n",
    "        }\n",
    "        req = requests.Request('GET', url, params=payload)\n",
    "        p = req.prepare()\n",
    "        raise cherrypy.HTTPRedirect(p.url)\n",
    "\n",
    "    def authresponse(self, var=None, **params):\n",
    "        code = urllib.parse.quote(cherrypy.request.params['code'])\n",
    "        callback = cherrypy.url()\n",
    "        payload = {\n",
    "            \"client_id\": CLIENT_ID,\n",
    "            \"client_secret\": CLIENT_SECRET,\n",
    "            \"code\": code,\n",
    "            \"grant_type\": \"authorization_code\",\n",
    "            \"redirect_uri\": callback\n",
    "        }\n",
    "        url = \"https://api.amazon.com/auth/o2/token\"\n",
    "        r = requests.post(url, data=payload)\n",
    "        resp = r.json()\n",
    "        return \"Refresh token:<br>{}\".format(\n",
    "            resp['refresh_token'])\n",
    "\n",
    "    index.exposed = True\n",
    "    authresponse.exposed = True\n",
    "\n",
    "cherrypy.config.update({'server.socket_host': '0.0.0.0'})\n",
    "cherrypy.config.update({'server.socket_port': WEB_PORT})\n",
    "print('Open http://localhost:9000 to login in amazon alexa service')\n",
    "cherrypy.quickstart(Start())"
   ]
  },
  {
   "cell_type": "markdown",
   "metadata": {},
   "source": [
    "Now copy-paste the token below."
   ]
  },
  {
   "cell_type": "code",
   "execution_count": null,
   "metadata": {},
   "outputs": [],
   "source": [
    "REFRESH_TOKEN=\"\""
   ]
  },
  {
   "cell_type": "markdown",
   "metadata": {},
   "source": [
    "We are ready to connect to AVS and get the response from Alexa."
   ]
  },
  {
   "cell_type": "code",
   "execution_count": null,
   "metadata": {},
   "outputs": [],
   "source": [
    "from avs_client import AlexaVoiceServiceClient\n",
    "\n",
    "alexa_client = AlexaVoiceServiceClient(\n",
    "    client_id=CLIENT_ID,\n",
    "    secret=CLIENT_SECRET,\n",
    "    refresh_token=REFRESH_TOKEN,\n",
    ")\n",
    "alexa_client.connect()\n",
    "\n",
    "with open('./hello.wav', 'rb') as f:\n",
    "    alexa_response_audio = alexa_client.send_audio_file(f)\n",
    "with open('./output.wav', 'wb') as f:\n",
    "    f.write(alexa_response_audio)"
   ]
  },
  {
   "cell_type": "markdown",
   "metadata": {},
   "source": [
    "Let's play it."
   ]
  },
  {
   "cell_type": "code",
   "execution_count": null,
   "metadata": {},
   "outputs": [],
   "source": [
    "from IPython.display import Audio\n",
    "sound_file = 'output.wav'\n",
    "\n",
    "Audio(url=sound_file, autoplay=False)"
   ]
  }
 ],
 "metadata": {
  "kernelspec": {
   "display_name": "Python 3",
   "language": "python",
   "name": "python3"
  },
  "language_info": {
   "codemirror_mode": {
    "name": "ipython",
    "version": 3
   },
   "file_extension": ".py",
   "mimetype": "text/x-python",
   "name": "python",
   "nbconvert_exporter": "python",
   "pygments_lexer": "ipython3",
   "version": "3.6.3"
  }
 },
 "nbformat": 4,
 "nbformat_minor": 2
}
